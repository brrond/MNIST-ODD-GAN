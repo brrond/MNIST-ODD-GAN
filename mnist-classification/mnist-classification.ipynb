{
 "cells": [
  {
   "cell_type": "code",
   "execution_count": 1,
   "id": "b7fd373a",
   "metadata": {},
   "outputs": [],
   "source": [
    "from pathlib import Path\n",
    "\n",
    "import numpy as np\n",
    "import tensorflow as tf\n",
    "import keras_tuner as kt\n",
    "from matplotlib import pyplot as plt"
   ]
  },
  {
   "cell_type": "code",
   "execution_count": 2,
   "id": "bdf6bdfb",
   "metadata": {},
   "outputs": [],
   "source": [
    "DATASET_BASE_DIR = Path(\"../MNIST-ObjectDetection/data/mnist_detection\")"
   ]
  },
  {
   "cell_type": "code",
   "execution_count": 3,
   "id": "05a9c8c3",
   "metadata": {},
   "outputs": [
    {
     "name": "stdout",
     "output_type": "stream",
     "text": [
      "Found 125 files belonging to 10 classes.\n",
      "Found 130 files belonging to 10 classes.\n",
      "Found 116 files belonging to 10 classes.\n"
     ]
    }
   ],
   "source": [
    "dataset_train = tf.keras.preprocessing.image_dataset_from_directory(\n",
    "    DATASET_BASE_DIR / \"train\" / \"classification\",\n",
    "    label_mode=\"categorical\",\n",
    "    color_mode=\"grayscale\",\n",
    "    image_size=(28, 28),\n",
    "    shuffle=True,\n",
    "    seed=42,\n",
    ")\n",
    "dataset_test = tf.keras.preprocessing.image_dataset_from_directory(\n",
    "    DATASET_BASE_DIR / \"test\" / \"classification\",\n",
    "    label_mode=\"categorical\",\n",
    "    color_mode=\"grayscale\",\n",
    "    image_size=(28, 28),\n",
    "    shuffle=True,\n",
    "    seed=42,\n",
    ")\n",
    "dataset_validation = tf.keras.preprocessing.image_dataset_from_directory(\n",
    "    DATASET_BASE_DIR / \"validation\" / \"classification\",\n",
    "    label_mode=\"categorical\",\n",
    "    color_mode=\"grayscale\",\n",
    "    image_size=(28, 28),\n",
    "    shuffle=True,\n",
    "    seed=42,\n",
    ")"
   ]
  },
  {
   "cell_type": "code",
   "execution_count": 4,
   "id": "0113e63a",
   "metadata": {},
   "outputs": [],
   "source": [
    "dataset_train = dataset_train.map(lambda x, y: (x / 255., y))\n",
    "dataset_test = dataset_test.map(lambda x, y: (x / 255., y))\n",
    "dataset_validation = dataset_validation.map(lambda x, y: (x / 255., y))"
   ]
  },
  {
   "cell_type": "code",
   "execution_count": 5,
   "id": "ba29e0fe",
   "metadata": {},
   "outputs": [
    {
     "name": "stdout",
     "output_type": "stream",
     "text": [
      "0.0 1.0\n",
      "(32, 28, 28, 1)\n"
     ]
    },
    {
     "data": {
      "image/png": "[encoded data removed]",
      "text/plain": [
       "<Figure size 640x480 with 1 Axes>"
      ]
     },
     "metadata": {},
     "output_type": "display_data"
    }
   ],
   "source": [
    "# visualize just in case\n",
    "for x, y in dataset_train:\n",
    "    x = x.numpy()\n",
    "    plt.axis(False)\n",
    "    plt.title(y[0])\n",
    "    plt.imshow(x[0], cmap=\"gray\")\n",
    "    print(x.min(), x.max())\n",
    "    print(x.shape)\n",
    "    break"
   ]
  },
  {
   "cell_type": "code",
   "execution_count": 6,
   "id": "d5bf92fc",
   "metadata": {},
   "outputs": [],
   "source": [
    "def model_builder(hp: kt.HyperParameters):\n",
    "    model = tf.keras.Sequential()\n",
    "    model.add(tf.keras.layers.Input(shape=(28, 28, 1)))\n",
    "\n",
    "    usebatchnorm = hp.Boolean(\"usebatchnorm\")\n",
    "    dropout = hp.Float(\"dropout\", .1, .4, .1)\n",
    "\n",
    "    conv1filters = hp.Int(\"conv1filters\", 32, 128, 32)\n",
    "    conv1regularizer = hp.Boolean(\"conv1regularizer\")\n",
    "    conv1regularizer_str = \"l2\" if conv1regularizer else None\n",
    "    model.add(tf.keras.layers.Conv2D(conv1filters, 3, activation=\"relu\", kernel_regularizer=conv1regularizer_str, padding=\"same\"))\n",
    "    if usebatchnorm:\n",
    "        model.add(tf.keras.layers.BatchNormalization())\n",
    "    model.add(tf.keras.layers.MaxPool2D())\n",
    "    model.add(tf.keras.layers.Dropout(dropout))\n",
    "\n",
    "    useconv2 = hp.Boolean(\"useconv2\")\n",
    "    conv2filters = hp.Int(\"conv2filters\", 32, 256, 32)\n",
    "    conv2regularizer = hp.Boolean(\"conv2regularizer\")\n",
    "    if useconv2:\n",
    "        conv2regularizer_str = \"l2\" if conv2regularizer else None\n",
    "        model.add(tf.keras.layers.Conv2D(conv2filters, 3, activation=\"relu\", kernel_regularizer=conv2regularizer_str, padding=\"same\"))\n",
    "    if usebatchnorm:\n",
    "        model.add(tf.keras.layers.BatchNormalization())\n",
    "    model.add(tf.keras.layers.MaxPool2D())\n",
    "    model.add(tf.keras.layers.Dropout(dropout))\n",
    "\n",
    "    useconv3 = hp.Boolean(\"useconv3\")\n",
    "    conv3filters = hp.Int(\"conv3filters\", 32, 256, 32)\n",
    "    conv3regularizer = hp.Boolean(\"conv3regularizer\")\n",
    "    if useconv3:\n",
    "        conv3regularizer_str = \"l2\" if conv3regularizer else None\n",
    "        model.add(tf.keras.layers.Conv2D(conv3filters, 3, activation=\"relu\", kernel_regularizer=conv3regularizer_str, padding=\"same\"))\n",
    "    if usebatchnorm:\n",
    "        model.add(tf.keras.layers.BatchNormalization())\n",
    "    model.add(tf.keras.layers.MaxPool2D())\n",
    "    model.add(tf.keras.layers.Dropout(dropout))\n",
    "\n",
    "    model.add(tf.keras.layers.Flatten())\n",
    "\n",
    "    units = hp.Int(\"units\", 16, 256, 16)\n",
    "    model.add(tf.keras.layers.Dense(units, activation=\"relu\"))\n",
    "\n",
    "    model.add(tf.keras.layers.Dense(10, activation=\"softmax\"))\n",
    "\n",
    "    lr = hp.Float(\"lr\", 1e-3, .1, 5e-3)\n",
    "    model.compile(tf.keras.optimizers.Adam(lr), \"categorical_crossentropy\", [\"accuracy\"])\n",
    "    return model"
   ]
  },
  {
   "cell_type": "code",
   "execution_count": 7,
   "id": "e8981615",
   "metadata": {},
   "outputs": [],
   "source": [
    "tuner = kt.Hyperband(model_builder, objective=\"val_accuracy\", max_epochs=200, directory=\"tuner\", project_name=\"classifier\", overwrite=True)"
   ]
  },
  {
   "cell_type": "code",
   "execution_count": 8,
   "id": "5ab7c28c",
   "metadata": {},
   "outputs": [
    {
     "name": "stdout",
     "output_type": "stream",
     "text": [
      "Trial 254 Complete [00h 00m 04s]\n",
      "val_accuracy: 0.16379310190677643\n",
      "\n",
      "Best val_accuracy So Far: 0.9137930870056152\n",
      "Total elapsed time: 00h 14m 49s\n"
     ]
    }
   ],
   "source": [
    "tuner.search(dataset_train, epochs=1000, validation_data=dataset_validation, callbacks=[tf.keras.callbacks.EarlyStopping(monitor=\"val_accuracy\", patience=10)])"
   ]
  },
  {
   "cell_type": "code",
   "execution_count": 9,
   "id": "c3b783ba",
   "metadata": {},
   "outputs": [],
   "source": [
    "best_hps = tuner.get_best_hyperparameters()[0]\n",
    "model = tuner.hypermodel.build(best_hps)"
   ]
  },
  {
   "cell_type": "code",
   "execution_count": 10,
   "id": "f27acd9a",
   "metadata": {},
   "outputs": [
    {
     "data": {
      "text/plain": [
       "{'usebatchnorm': False,\n",
       " 'dropout': 0.4,\n",
       " 'conv1filters': 128,\n",
       " 'conv1regularizer': True,\n",
       " 'useconv2': True,\n",
       " 'conv2filters': 224,\n",
       " 'conv2regularizer': False,\n",
       " 'useconv3': False,\n",
       " 'conv3filters': 192,\n",
       " 'conv3regularizer': True,\n",
       " 'units': 48,\n",
       " 'lr': 0.011,\n",
       " 'tuner/epochs': 200,\n",
       " 'tuner/initial_epoch': 67,\n",
       " 'tuner/bracket': 1,\n",
       " 'tuner/round': 1,\n",
       " 'tuner/trial_id': '0236'}"
      ]
     },
     "execution_count": 10,
     "metadata": {},
     "output_type": "execute_result"
    }
   ],
   "source": [
    "best_hps.values"
   ]
  },
  {
   "cell_type": "code",
   "execution_count": 11,
   "id": "8d89041c",
   "metadata": {},
   "outputs": [
    {
     "name": "stdout",
     "output_type": "stream",
     "text": [
      "Model: \"sequential_1\"\n",
      "_________________________________________________________________\n",
      " Layer (type)                Output Shape              Param #   \n",
      "=================================================================\n",
      " conv2d_2 (Conv2D)           (None, 28, 28, 128)       1280      \n",
      "                                                                 \n",
      " max_pooling2d_3 (MaxPooling  (None, 14, 14, 128)      0         \n",
      " 2D)                                                             \n",
      "                                                                 \n",
      " dropout_3 (Dropout)         (None, 14, 14, 128)       0         \n",
      "                                                                 \n",
      " conv2d_3 (Conv2D)           (None, 14, 14, 224)       258272    \n",
      "                                                                 \n",
      " max_pooling2d_4 (MaxPooling  (None, 7, 7, 224)        0         \n",
      " 2D)                                                             \n",
      "                                                                 \n",
      " dropout_4 (Dropout)         (None, 7, 7, 224)         0         \n",
      "                                                                 \n",
      " max_pooling2d_5 (MaxPooling  (None, 3, 3, 224)        0         \n",
      " 2D)                                                             \n",
      "                                                                 \n",
      " dropout_5 (Dropout)         (None, 3, 3, 224)         0         \n",
      "                                                                 \n",
      " flatten_1 (Flatten)         (None, 2016)              0         \n",
      "                                                                 \n",
      " dense_2 (Dense)             (None, 48)                96816     \n",
      "                                                                 \n",
      " dense_3 (Dense)             (None, 10)                490       \n",
      "                                                                 \n",
      "=================================================================\n",
      "Total params: 356,858\n",
      "Trainable params: 356,858\n",
      "Non-trainable params: 0\n",
      "_________________________________________________________________\n"
     ]
    }
   ],
   "source": [
    "model.summary()"
   ]
  },
  {
   "cell_type": "code",
   "execution_count": 12,
   "id": "5d9fe5f5",
   "metadata": {},
   "outputs": [],
   "source": [
    "callbacks = [\n",
    "    tf.keras.callbacks.CSVLogger(\"classifier.csv\"),\n",
    "    tf.keras.callbacks.TerminateOnNaN(),\n",
    "    tf.keras.callbacks.TensorBoard(\"classifier/\"),\n",
    "    tf.keras.callbacks.ModelCheckpoint(\"classifier.keras\", save_best_only=True, monitor=\"val_accuracy\"),\n",
    "    tf.keras.callbacks.EarlyStopping(monitor=\"val_accuracy\", patience=100),\n",
    "    tf.keras.callbacks.ReduceLROnPlateau(monitor=\"val_accuracy\", patience=10),\n",
    "]"
   ]
  },
  {
   "cell_type": "code",
   "execution_count": 13,
   "id": "11b7e29b",
   "metadata": {},
   "outputs": [
    {
     "name": "stdout",
     "output_type": "stream",
     "text": [
      "Epoch 1/1000\n"
     ]
    },
    {
     "name": "stdout",
     "output_type": "stream",
     "text": [
      "4/4 [==============================] - 2s 208ms/step - loss: 2.6534 - accuracy: 0.1040 - val_loss: 2.3190 - val_accuracy: 0.1466 - lr: 0.0110\n",
      "Epoch 2/1000\n",
      "4/4 [==============================] - 1s 101ms/step - loss: 2.3193 - accuracy: 0.1520 - val_loss: 2.3161 - val_accuracy: 0.1724 - lr: 0.0110\n",
      "Epoch 3/1000\n",
      "4/4 [==============================] - 0s 83ms/step - loss: 2.2785 - accuracy: 0.1680 - val_loss: 2.2535 - val_accuracy: 0.2931 - lr: 0.0110\n",
      "Epoch 4/1000\n",
      "4/4 [==============================] - 0s 59ms/step - loss: 2.1150 - accuracy: 0.2880 - val_loss: 2.0330 - val_accuracy: 0.3534 - lr: 0.0110\n",
      "Epoch 5/1000\n",
      "4/4 [==============================] - 0s 62ms/step - loss: 2.0053 - accuracy: 0.2800 - val_loss: 1.9549 - val_accuracy: 0.4138 - lr: 0.0110\n",
      "Epoch 6/1000\n",
      "4/4 [==============================] - 0s 44ms/step - loss: 1.9037 - accuracy: 0.3680 - val_loss: 1.8817 - val_accuracy: 0.3966 - lr: 0.0110\n",
      "Epoch 7/1000\n",
      "4/4 [==============================] - 0s 59ms/step - loss: 1.5598 - accuracy: 0.4480 - val_loss: 1.6065 - val_accuracy: 0.5000 - lr: 0.0110\n",
      "Epoch 8/1000\n",
      "4/4 [==============================] - 0s 62ms/step - loss: 1.3409 - accuracy: 0.5680 - val_loss: 1.4621 - val_accuracy: 0.5086 - lr: 0.0110\n",
      "Epoch 9/1000\n",
      "4/4 [==============================] - 0s 60ms/step - loss: 1.1378 - accuracy: 0.6080 - val_loss: 1.2442 - val_accuracy: 0.5948 - lr: 0.0110\n",
      "Epoch 10/1000\n",
      "4/4 [==============================] - 0s 62ms/step - loss: 1.1378 - accuracy: 0.6240 - val_loss: 1.2138 - val_accuracy: 0.6379 - lr: 0.0110\n",
      "Epoch 11/1000\n",
      "4/4 [==============================] - 0s 74ms/step - loss: 0.9185 - accuracy: 0.7040 - val_loss: 1.2577 - val_accuracy: 0.5776 - lr: 0.0110\n",
      "Epoch 12/1000\n",
      "4/4 [==============================] - 0s 86ms/step - loss: 0.9212 - accuracy: 0.6880 - val_loss: 1.1549 - val_accuracy: 0.6638 - lr: 0.0110\n",
      "Epoch 13/1000\n",
      "4/4 [==============================] - 0s 80ms/step - loss: 0.7126 - accuracy: 0.7520 - val_loss: 1.0254 - val_accuracy: 0.6983 - lr: 0.0110\n",
      "Epoch 14/1000\n",
      "4/4 [==============================] - 0s 62ms/step - loss: 0.6127 - accuracy: 0.8000 - val_loss: 0.9240 - val_accuracy: 0.7328 - lr: 0.0110\n",
      "Epoch 15/1000\n",
      "4/4 [==============================] - 0s 49ms/step - loss: 0.6389 - accuracy: 0.7440 - val_loss: 1.2031 - val_accuracy: 0.6207 - lr: 0.0110\n",
      "Epoch 16/1000\n",
      "4/4 [==============================] - 0s 62ms/step - loss: 0.5779 - accuracy: 0.7760 - val_loss: 0.6901 - val_accuracy: 0.7586 - lr: 0.0110\n",
      "Epoch 17/1000\n",
      "4/4 [==============================] - 0s 49ms/step - loss: 0.4884 - accuracy: 0.8080 - val_loss: 0.8213 - val_accuracy: 0.7241 - lr: 0.0110\n",
      "Epoch 18/1000\n",
      "4/4 [==============================] - 0s 46ms/step - loss: 0.6236 - accuracy: 0.7840 - val_loss: 0.9695 - val_accuracy: 0.6983 - lr: 0.0110\n",
      "Epoch 19/1000\n",
      "4/4 [==============================] - 0s 61ms/step - loss: 0.4955 - accuracy: 0.8240 - val_loss: 0.7037 - val_accuracy: 0.8017 - lr: 0.0110\n",
      "Epoch 20/1000\n",
      "4/4 [==============================] - 0s 49ms/step - loss: 0.4448 - accuracy: 0.8480 - val_loss: 0.8563 - val_accuracy: 0.6810 - lr: 0.0110\n",
      "Epoch 21/1000\n",
      "4/4 [==============================] - 0s 52ms/step - loss: 0.3815 - accuracy: 0.9040 - val_loss: 0.7897 - val_accuracy: 0.7586 - lr: 0.0110\n",
      "Epoch 22/1000\n",
      "4/4 [==============================] - 0s 82ms/step - loss: 0.4845 - accuracy: 0.8720 - val_loss: 0.5913 - val_accuracy: 0.8276 - lr: 0.0110\n",
      "Epoch 23/1000\n",
      "4/4 [==============================] - 0s 75ms/step - loss: 0.5388 - accuracy: 0.8240 - val_loss: 0.7175 - val_accuracy: 0.7500 - lr: 0.0110\n",
      "Epoch 24/1000\n",
      "4/4 [==============================] - 0s 65ms/step - loss: 0.3491 - accuracy: 0.8800 - val_loss: 0.8485 - val_accuracy: 0.7328 - lr: 0.0110\n",
      "Epoch 25/1000\n",
      "4/4 [==============================] - 0s 45ms/step - loss: 0.3619 - accuracy: 0.8640 - val_loss: 0.8084 - val_accuracy: 0.7328 - lr: 0.0110\n",
      "Epoch 26/1000\n",
      "4/4 [==============================] - 0s 48ms/step - loss: 0.3747 - accuracy: 0.8560 - val_loss: 0.6581 - val_accuracy: 0.7328 - lr: 0.0110\n",
      "Epoch 27/1000\n",
      "4/4 [==============================] - 0s 49ms/step - loss: 0.4685 - accuracy: 0.8320 - val_loss: 0.6073 - val_accuracy: 0.7672 - lr: 0.0110\n",
      "Epoch 28/1000\n",
      "4/4 [==============================] - 0s 44ms/step - loss: 0.3323 - accuracy: 0.8880 - val_loss: 0.9390 - val_accuracy: 0.7500 - lr: 0.0110\n",
      "Epoch 29/1000\n",
      "4/4 [==============================] - 0s 53ms/step - loss: 0.3456 - accuracy: 0.8800 - val_loss: 0.7853 - val_accuracy: 0.7759 - lr: 0.0110\n",
      "Epoch 30/1000\n",
      "4/4 [==============================] - 0s 48ms/step - loss: 0.2730 - accuracy: 0.8720 - val_loss: 0.7421 - val_accuracy: 0.7586 - lr: 0.0110\n",
      "Epoch 31/1000\n",
      "4/4 [==============================] - 0s 49ms/step - loss: 0.3249 - accuracy: 0.8880 - val_loss: 0.6674 - val_accuracy: 0.7586 - lr: 0.0110\n",
      "Epoch 32/1000\n",
      "4/4 [==============================] - 0s 52ms/step - loss: 0.2349 - accuracy: 0.9040 - val_loss: 0.6275 - val_accuracy: 0.7931 - lr: 0.0110\n",
      "Epoch 33/1000\n",
      "4/4 [==============================] - 0s 56ms/step - loss: 0.2697 - accuracy: 0.9040 - val_loss: 0.5957 - val_accuracy: 0.8017 - lr: 0.0011\n",
      "Epoch 34/1000\n",
      "4/4 [==============================] - 0s 76ms/step - loss: 0.2502 - accuracy: 0.9120 - val_loss: 0.5621 - val_accuracy: 0.8362 - lr: 0.0011\n",
      "Epoch 35/1000\n",
      "4/4 [==============================] - 0s 53ms/step - loss: 0.2536 - accuracy: 0.8960 - val_loss: 0.5434 - val_accuracy: 0.8362 - lr: 0.0011\n",
      "Epoch 36/1000\n",
      "4/4 [==============================] - 0s 65ms/step - loss: 0.2645 - accuracy: 0.9120 - val_loss: 0.5416 - val_accuracy: 0.8362 - lr: 0.0011\n",
      "Epoch 37/1000\n",
      "4/4 [==============================] - 0s 74ms/step - loss: 0.1678 - accuracy: 0.9440 - val_loss: 0.5363 - val_accuracy: 0.8276 - lr: 0.0011\n",
      "Epoch 38/1000\n",
      "4/4 [==============================] - 0s 66ms/step - loss: 0.2074 - accuracy: 0.9440 - val_loss: 0.5366 - val_accuracy: 0.8362 - lr: 0.0011\n",
      "Epoch 39/1000\n",
      "4/4 [==============================] - 0s 73ms/step - loss: 0.1725 - accuracy: 0.9600 - val_loss: 0.5341 - val_accuracy: 0.8362 - lr: 0.0011\n",
      "Epoch 40/1000\n",
      "4/4 [==============================] - 0s 72ms/step - loss: 0.1548 - accuracy: 0.9760 - val_loss: 0.5353 - val_accuracy: 0.8276 - lr: 0.0011\n",
      "Epoch 41/1000\n",
      "4/4 [==============================] - 0s 72ms/step - loss: 0.2030 - accuracy: 0.9280 - val_loss: 0.5313 - val_accuracy: 0.8362 - lr: 0.0011\n",
      "Epoch 42/1000\n",
      "4/4 [==============================] - 0s 72ms/step - loss: 0.1358 - accuracy: 0.9760 - val_loss: 0.5263 - val_accuracy: 0.8362 - lr: 0.0011\n",
      "Epoch 43/1000\n",
      "4/4 [==============================] - 0s 48ms/step - loss: 0.2151 - accuracy: 0.9120 - val_loss: 0.5240 - val_accuracy: 0.8362 - lr: 0.0011\n",
      "Epoch 44/1000\n",
      "4/4 [==============================] - 0s 49ms/step - loss: 0.1154 - accuracy: 0.9680 - val_loss: 0.5322 - val_accuracy: 0.8362 - lr: 0.0011\n",
      "Epoch 45/1000\n",
      "4/4 [==============================] - 0s 52ms/step - loss: 0.1221 - accuracy: 0.9840 - val_loss: 0.5326 - val_accuracy: 0.8362 - lr: 1.1000e-04\n",
      "Epoch 46/1000\n",
      "4/4 [==============================] - 0s 60ms/step - loss: 0.1645 - accuracy: 0.9360 - val_loss: 0.5329 - val_accuracy: 0.8362 - lr: 1.1000e-04\n",
      "Epoch 47/1000\n",
      "4/4 [==============================] - 0s 52ms/step - loss: 0.1797 - accuracy: 0.9440 - val_loss: 0.5335 - val_accuracy: 0.8362 - lr: 1.1000e-04\n",
      "Epoch 48/1000\n",
      "4/4 [==============================] - 0s 49ms/step - loss: 0.2408 - accuracy: 0.9200 - val_loss: 0.5346 - val_accuracy: 0.8362 - lr: 1.1000e-04\n",
      "Epoch 49/1000\n",
      "4/4 [==============================] - 0s 49ms/step - loss: 0.1735 - accuracy: 0.9360 - val_loss: 0.5341 - val_accuracy: 0.8362 - lr: 1.1000e-04\n",
      "Epoch 50/1000\n",
      "4/4 [==============================] - 0s 67ms/step - loss: 0.1532 - accuracy: 0.9680 - val_loss: 0.5325 - val_accuracy: 0.8362 - lr: 1.1000e-04\n",
      "Epoch 51/1000\n",
      "4/4 [==============================] - 0s 72ms/step - loss: 0.1481 - accuracy: 0.9760 - val_loss: 0.5321 - val_accuracy: 0.8362 - lr: 1.1000e-04\n",
      "Epoch 52/1000\n",
      "4/4 [==============================] - 0s 68ms/step - loss: 0.1155 - accuracy: 0.9760 - val_loss: 0.5321 - val_accuracy: 0.8362 - lr: 1.1000e-04\n",
      "Epoch 53/1000\n",
      "4/4 [==============================] - 0s 68ms/step - loss: 0.2047 - accuracy: 0.9120 - val_loss: 0.5313 - val_accuracy: 0.8362 - lr: 1.1000e-04\n",
      "Epoch 54/1000\n",
      "4/4 [==============================] - 0s 68ms/step - loss: 0.1182 - accuracy: 0.9680 - val_loss: 0.5303 - val_accuracy: 0.8362 - lr: 1.1000e-04\n",
      "Epoch 55/1000\n",
      "4/4 [==============================] - 0s 68ms/step - loss: 0.1247 - accuracy: 0.9440 - val_loss: 0.5303 - val_accuracy: 0.8362 - lr: 1.1000e-05\n",
      "Epoch 56/1000\n",
      "4/4 [==============================] - 0s 73ms/step - loss: 0.1066 - accuracy: 0.9920 - val_loss: 0.5302 - val_accuracy: 0.8362 - lr: 1.1000e-05\n",
      "Epoch 57/1000\n",
      "4/4 [==============================] - 0s 68ms/step - loss: 0.1473 - accuracy: 0.9600 - val_loss: 0.5302 - val_accuracy: 0.8362 - lr: 1.1000e-05\n",
      "Epoch 58/1000\n",
      "4/4 [==============================] - 0s 47ms/step - loss: 0.1677 - accuracy: 0.9440 - val_loss: 0.5301 - val_accuracy: 0.8362 - lr: 1.1000e-05\n",
      "Epoch 59/1000\n",
      "4/4 [==============================] - 0s 47ms/step - loss: 0.1349 - accuracy: 0.9520 - val_loss: 0.5301 - val_accuracy: 0.8362 - lr: 1.1000e-05\n",
      "Epoch 60/1000\n",
      "4/4 [==============================] - 0s 45ms/step - loss: 0.1503 - accuracy: 0.9440 - val_loss: 0.5299 - val_accuracy: 0.8362 - lr: 1.1000e-05\n",
      "Epoch 61/1000\n",
      "4/4 [==============================] - 0s 39ms/step - loss: 0.1542 - accuracy: 0.9520 - val_loss: 0.5298 - val_accuracy: 0.8362 - lr: 1.1000e-05\n",
      "Epoch 62/1000\n",
      "4/4 [==============================] - 0s 47ms/step - loss: 0.1443 - accuracy: 0.9600 - val_loss: 0.5295 - val_accuracy: 0.8362 - lr: 1.1000e-05\n",
      "Epoch 63/1000\n",
      "4/4 [==============================] - 0s 48ms/step - loss: 0.1504 - accuracy: 0.9680 - val_loss: 0.5293 - val_accuracy: 0.8362 - lr: 1.1000e-05\n",
      "Epoch 64/1000\n",
      "4/4 [==============================] - 0s 48ms/step - loss: 0.1688 - accuracy: 0.9520 - val_loss: 0.5293 - val_accuracy: 0.8362 - lr: 1.1000e-05\n",
      "Epoch 65/1000\n",
      "4/4 [==============================] - 0s 50ms/step - loss: 0.1798 - accuracy: 0.9280 - val_loss: 0.5293 - val_accuracy: 0.8362 - lr: 1.1000e-06\n",
      "Epoch 66/1000\n",
      "4/4 [==============================] - 0s 50ms/step - loss: 0.1143 - accuracy: 0.9680 - val_loss: 0.5293 - val_accuracy: 0.8362 - lr: 1.1000e-06\n",
      "Epoch 67/1000\n",
      "4/4 [==============================] - 0s 74ms/step - loss: 0.1433 - accuracy: 0.9680 - val_loss: 0.5293 - val_accuracy: 0.8362 - lr: 1.1000e-06\n",
      "Epoch 68/1000\n",
      "4/4 [==============================] - 0s 75ms/step - loss: 0.1299 - accuracy: 0.9520 - val_loss: 0.5292 - val_accuracy: 0.8362 - lr: 1.1000e-06\n",
      "Epoch 69/1000\n",
      "4/4 [==============================] - 0s 70ms/step - loss: 0.1735 - accuracy: 0.9360 - val_loss: 0.5292 - val_accuracy: 0.8362 - lr: 1.1000e-06\n",
      "Epoch 70/1000\n",
      "4/4 [==============================] - 0s 67ms/step - loss: 0.0934 - accuracy: 0.9680 - val_loss: 0.5292 - val_accuracy: 0.8362 - lr: 1.1000e-06\n",
      "Epoch 71/1000\n",
      "4/4 [==============================] - 0s 69ms/step - loss: 0.0817 - accuracy: 0.9840 - val_loss: 0.5292 - val_accuracy: 0.8362 - lr: 1.1000e-06\n",
      "Epoch 72/1000\n",
      "4/4 [==============================] - 0s 64ms/step - loss: 0.1971 - accuracy: 0.9360 - val_loss: 0.5292 - val_accuracy: 0.8362 - lr: 1.1000e-06\n",
      "Epoch 73/1000\n",
      "4/4 [==============================] - 0s 47ms/step - loss: 0.1338 - accuracy: 0.9680 - val_loss: 0.5292 - val_accuracy: 0.8362 - lr: 1.1000e-06\n",
      "Epoch 74/1000\n",
      "4/4 [==============================] - 0s 45ms/step - loss: 0.1721 - accuracy: 0.9360 - val_loss: 0.5293 - val_accuracy: 0.8362 - lr: 1.1000e-06\n",
      "Epoch 75/1000\n",
      "4/4 [==============================] - 0s 44ms/step - loss: 0.1191 - accuracy: 0.9760 - val_loss: 0.5293 - val_accuracy: 0.8362 - lr: 1.1000e-07\n",
      "Epoch 76/1000\n",
      "4/4 [==============================] - 0s 50ms/step - loss: 0.0993 - accuracy: 0.9840 - val_loss: 0.5293 - val_accuracy: 0.8362 - lr: 1.1000e-07\n",
      "Epoch 77/1000\n",
      "4/4 [==============================] - 0s 50ms/step - loss: 0.1153 - accuracy: 0.9760 - val_loss: 0.5293 - val_accuracy: 0.8362 - lr: 1.1000e-07\n",
      "Epoch 78/1000\n",
      "4/4 [==============================] - 0s 44ms/step - loss: 0.1594 - accuracy: 0.9440 - val_loss: 0.5293 - val_accuracy: 0.8362 - lr: 1.1000e-07\n",
      "Epoch 79/1000\n",
      "4/4 [==============================] - 0s 46ms/step - loss: 0.1243 - accuracy: 0.9600 - val_loss: 0.5293 - val_accuracy: 0.8362 - lr: 1.1000e-07\n",
      "Epoch 80/1000\n",
      "4/4 [==============================] - 0s 48ms/step - loss: 0.1294 - accuracy: 0.9680 - val_loss: 0.5293 - val_accuracy: 0.8362 - lr: 1.1000e-07\n",
      "Epoch 81/1000\n",
      "4/4 [==============================] - 0s 65ms/step - loss: 0.2028 - accuracy: 0.9600 - val_loss: 0.5293 - val_accuracy: 0.8362 - lr: 1.1000e-07\n",
      "Epoch 82/1000\n",
      "4/4 [==============================] - 0s 69ms/step - loss: 0.1022 - accuracy: 0.9760 - val_loss: 0.5293 - val_accuracy: 0.8362 - lr: 1.1000e-07\n",
      "Epoch 83/1000\n",
      "4/4 [==============================] - 0s 68ms/step - loss: 0.0735 - accuracy: 1.0000 - val_loss: 0.5293 - val_accuracy: 0.8362 - lr: 1.1000e-07\n",
      "Epoch 84/1000\n",
      "4/4 [==============================] - 0s 73ms/step - loss: 0.1403 - accuracy: 0.9600 - val_loss: 0.5293 - val_accuracy: 0.8362 - lr: 1.1000e-07\n",
      "Epoch 85/1000\n",
      "4/4 [==============================] - 0s 67ms/step - loss: 0.1620 - accuracy: 0.9360 - val_loss: 0.5293 - val_accuracy: 0.8362 - lr: 1.1000e-08\n",
      "Epoch 86/1000\n",
      "4/4 [==============================] - 0s 111ms/step - loss: 0.1908 - accuracy: 0.9280 - val_loss: 0.5293 - val_accuracy: 0.8362 - lr: 1.1000e-08\n",
      "Epoch 87/1000\n",
      "4/4 [==============================] - 0s 100ms/step - loss: 0.1560 - accuracy: 0.9680 - val_loss: 0.5293 - val_accuracy: 0.8362 - lr: 1.1000e-08\n",
      "Epoch 88/1000\n",
      "4/4 [==============================] - 0s 48ms/step - loss: 0.1336 - accuracy: 0.9600 - val_loss: 0.5293 - val_accuracy: 0.8362 - lr: 1.1000e-08\n",
      "Epoch 89/1000\n",
      "4/4 [==============================] - 0s 48ms/step - loss: 0.1414 - accuracy: 0.9520 - val_loss: 0.5293 - val_accuracy: 0.8362 - lr: 1.1000e-08\n",
      "Epoch 90/1000\n",
      "4/4 [==============================] - 0s 47ms/step - loss: 0.1276 - accuracy: 0.9600 - val_loss: 0.5293 - val_accuracy: 0.8362 - lr: 1.1000e-08\n",
      "Epoch 91/1000\n",
      "4/4 [==============================] - 0s 70ms/step - loss: 0.1819 - accuracy: 0.9360 - val_loss: 0.5293 - val_accuracy: 0.8362 - lr: 1.1000e-08\n",
      "Epoch 92/1000\n",
      "4/4 [==============================] - 0s 69ms/step - loss: 0.1356 - accuracy: 0.9600 - val_loss: 0.5293 - val_accuracy: 0.8362 - lr: 1.1000e-08\n",
      "Epoch 93/1000\n",
      "4/4 [==============================] - 0s 68ms/step - loss: 0.1493 - accuracy: 0.9600 - val_loss: 0.5293 - val_accuracy: 0.8362 - lr: 1.1000e-08\n",
      "Epoch 94/1000\n",
      "4/4 [==============================] - 0s 74ms/step - loss: 0.1446 - accuracy: 0.9520 - val_loss: 0.5293 - val_accuracy: 0.8362 - lr: 1.1000e-08\n",
      "Epoch 95/1000\n",
      "4/4 [==============================] - 0s 64ms/step - loss: 0.1393 - accuracy: 0.9440 - val_loss: 0.5293 - val_accuracy: 0.8362 - lr: 1.1000e-09\n",
      "Epoch 96/1000\n",
      "4/4 [==============================] - 0s 75ms/step - loss: 0.1026 - accuracy: 0.9760 - val_loss: 0.5293 - val_accuracy: 0.8362 - lr: 1.1000e-09\n",
      "Epoch 97/1000\n",
      "4/4 [==============================] - 0s 67ms/step - loss: 0.1532 - accuracy: 0.9600 - val_loss: 0.5293 - val_accuracy: 0.8362 - lr: 1.1000e-09\n",
      "Epoch 98/1000\n",
      "4/4 [==============================] - 0s 44ms/step - loss: 0.1335 - accuracy: 0.9680 - val_loss: 0.5293 - val_accuracy: 0.8362 - lr: 1.1000e-09\n",
      "Epoch 99/1000\n",
      "4/4 [==============================] - 0s 44ms/step - loss: 0.1211 - accuracy: 0.9760 - val_loss: 0.5293 - val_accuracy: 0.8362 - lr: 1.1000e-09\n",
      "Epoch 100/1000\n",
      "4/4 [==============================] - 0s 45ms/step - loss: 0.1536 - accuracy: 0.9440 - val_loss: 0.5293 - val_accuracy: 0.8362 - lr: 1.1000e-09\n",
      "Epoch 101/1000\n",
      "4/4 [==============================] - 0s 45ms/step - loss: 0.1968 - accuracy: 0.9280 - val_loss: 0.5293 - val_accuracy: 0.8362 - lr: 1.1000e-09\n",
      "Epoch 102/1000\n",
      "4/4 [==============================] - 0s 53ms/step - loss: 0.1372 - accuracy: 0.9680 - val_loss: 0.5293 - val_accuracy: 0.8362 - lr: 1.1000e-09\n",
      "Epoch 103/1000\n",
      "4/4 [==============================] - 0s 48ms/step - loss: 0.1412 - accuracy: 0.9440 - val_loss: 0.5293 - val_accuracy: 0.8362 - lr: 1.1000e-09\n",
      "Epoch 104/1000\n",
      "4/4 [==============================] - 0s 48ms/step - loss: 0.1168 - accuracy: 0.9760 - val_loss: 0.5293 - val_accuracy: 0.8362 - lr: 1.1000e-09\n",
      "Epoch 105/1000\n",
      "4/4 [==============================] - 0s 48ms/step - loss: 0.1177 - accuracy: 0.9680 - val_loss: 0.5293 - val_accuracy: 0.8362 - lr: 1.1000e-10\n",
      "Epoch 106/1000\n",
      "4/4 [==============================] - 0s 46ms/step - loss: 0.1302 - accuracy: 0.9600 - val_loss: 0.5293 - val_accuracy: 0.8362 - lr: 1.1000e-10\n",
      "Epoch 107/1000\n",
      "4/4 [==============================] - 0s 52ms/step - loss: 0.2023 - accuracy: 0.9200 - val_loss: 0.5293 - val_accuracy: 0.8362 - lr: 1.1000e-10\n",
      "Epoch 108/1000\n",
      "4/4 [==============================] - 0s 50ms/step - loss: 0.1172 - accuracy: 0.9760 - val_loss: 0.5293 - val_accuracy: 0.8362 - lr: 1.1000e-10\n",
      "Epoch 109/1000\n",
      "4/4 [==============================] - 0s 72ms/step - loss: 0.1830 - accuracy: 0.9360 - val_loss: 0.5293 - val_accuracy: 0.8362 - lr: 1.1000e-10\n",
      "Epoch 110/1000\n",
      "4/4 [==============================] - 0s 73ms/step - loss: 0.1266 - accuracy: 0.9680 - val_loss: 0.5293 - val_accuracy: 0.8362 - lr: 1.1000e-10\n",
      "Epoch 111/1000\n",
      "4/4 [==============================] - 0s 72ms/step - loss: 0.1592 - accuracy: 0.9520 - val_loss: 0.5293 - val_accuracy: 0.8362 - lr: 1.1000e-10\n",
      "Epoch 112/1000\n",
      "4/4 [==============================] - 0s 67ms/step - loss: 0.1339 - accuracy: 0.9520 - val_loss: 0.5293 - val_accuracy: 0.8362 - lr: 1.1000e-10\n",
      "Epoch 113/1000\n",
      "4/4 [==============================] - 0s 67ms/step - loss: 0.1973 - accuracy: 0.9200 - val_loss: 0.5293 - val_accuracy: 0.8362 - lr: 1.1000e-10\n",
      "Epoch 114/1000\n",
      "4/4 [==============================] - 0s 46ms/step - loss: 0.1129 - accuracy: 0.9600 - val_loss: 0.5293 - val_accuracy: 0.8362 - lr: 1.1000e-10\n",
      "Epoch 115/1000\n",
      "4/4 [==============================] - 0s 44ms/step - loss: 0.1730 - accuracy: 0.9360 - val_loss: 0.5293 - val_accuracy: 0.8362 - lr: 1.1000e-11\n",
      "Epoch 116/1000\n",
      "4/4 [==============================] - 0s 44ms/step - loss: 0.2323 - accuracy: 0.9360 - val_loss: 0.5293 - val_accuracy: 0.8362 - lr: 1.1000e-11\n",
      "Epoch 117/1000\n",
      "4/4 [==============================] - 0s 44ms/step - loss: 0.2065 - accuracy: 0.9440 - val_loss: 0.5293 - val_accuracy: 0.8362 - lr: 1.1000e-11\n",
      "Epoch 118/1000\n",
      "4/4 [==============================] - 0s 44ms/step - loss: 0.1567 - accuracy: 0.9360 - val_loss: 0.5293 - val_accuracy: 0.8362 - lr: 1.1000e-11\n",
      "Epoch 119/1000\n",
      "4/4 [==============================] - 0s 50ms/step - loss: 0.0861 - accuracy: 0.9840 - val_loss: 0.5293 - val_accuracy: 0.8362 - lr: 1.1000e-11\n",
      "Epoch 120/1000\n",
      "4/4 [==============================] - 0s 45ms/step - loss: 0.1172 - accuracy: 0.9600 - val_loss: 0.5293 - val_accuracy: 0.8362 - lr: 1.1000e-11\n",
      "Epoch 121/1000\n",
      "4/4 [==============================] - 0s 48ms/step - loss: 0.1193 - accuracy: 0.9680 - val_loss: 0.5293 - val_accuracy: 0.8362 - lr: 1.1000e-11\n",
      "Epoch 122/1000\n",
      "4/4 [==============================] - 0s 54ms/step - loss: 0.1797 - accuracy: 0.9440 - val_loss: 0.5293 - val_accuracy: 0.8362 - lr: 1.1000e-11\n",
      "Epoch 123/1000\n",
      "4/4 [==============================] - 0s 55ms/step - loss: 0.1906 - accuracy: 0.9440 - val_loss: 0.5293 - val_accuracy: 0.8362 - lr: 1.1000e-11\n",
      "Epoch 124/1000\n",
      "4/4 [==============================] - 0s 55ms/step - loss: 0.1454 - accuracy: 0.9600 - val_loss: 0.5293 - val_accuracy: 0.8362 - lr: 1.1000e-11\n",
      "Epoch 125/1000\n",
      "4/4 [==============================] - 0s 58ms/step - loss: 0.1749 - accuracy: 0.9440 - val_loss: 0.5293 - val_accuracy: 0.8362 - lr: 1.1000e-12\n",
      "Epoch 126/1000\n",
      "4/4 [==============================] - 0s 49ms/step - loss: 0.1375 - accuracy: 0.9920 - val_loss: 0.5293 - val_accuracy: 0.8362 - lr: 1.1000e-12\n",
      "Epoch 127/1000\n",
      "4/4 [==============================] - 0s 56ms/step - loss: 0.1397 - accuracy: 0.9520 - val_loss: 0.5293 - val_accuracy: 0.8362 - lr: 1.1000e-12\n",
      "Epoch 128/1000\n",
      "4/4 [==============================] - 0s 56ms/step - loss: 0.1050 - accuracy: 0.9760 - val_loss: 0.5293 - val_accuracy: 0.8362 - lr: 1.1000e-12\n",
      "Epoch 129/1000\n",
      "4/4 [==============================] - 0s 55ms/step - loss: 0.1680 - accuracy: 0.9360 - val_loss: 0.5293 - val_accuracy: 0.8362 - lr: 1.1000e-12\n",
      "Epoch 130/1000\n",
      "4/4 [==============================] - 0s 56ms/step - loss: 0.1324 - accuracy: 0.9600 - val_loss: 0.5293 - val_accuracy: 0.8362 - lr: 1.1000e-12\n",
      "Epoch 131/1000\n",
      "4/4 [==============================] - 0s 59ms/step - loss: 0.2441 - accuracy: 0.9280 - val_loss: 0.5293 - val_accuracy: 0.8362 - lr: 1.1000e-12\n",
      "Epoch 132/1000\n",
      "4/4 [==============================] - 0s 60ms/step - loss: 0.1246 - accuracy: 0.9600 - val_loss: 0.5293 - val_accuracy: 0.8362 - lr: 1.1000e-12\n",
      "Epoch 133/1000\n",
      "4/4 [==============================] - 0s 58ms/step - loss: 0.1287 - accuracy: 0.9760 - val_loss: 0.5293 - val_accuracy: 0.8362 - lr: 1.1000e-12\n",
      "Epoch 134/1000\n",
      "4/4 [==============================] - 0s 59ms/step - loss: 0.2454 - accuracy: 0.9520 - val_loss: 0.5293 - val_accuracy: 0.8362 - lr: 1.1000e-12\n"
     ]
    }
   ],
   "source": [
    "history = model.fit(dataset_train, epochs=1000, callbacks=callbacks, validation_data=dataset_validation, batch_size=16)"
   ]
  },
  {
   "cell_type": "code",
   "execution_count": 14,
   "id": "5f35e0ff",
   "metadata": {},
   "outputs": [],
   "source": [
    "best_model = tf.keras.models.load_model(\"classifier.keras\")"
   ]
  },
  {
   "cell_type": "code",
   "execution_count": 15,
   "id": "4539ac82",
   "metadata": {},
   "outputs": [
    {
     "name": "stdout",
     "output_type": "stream",
     "text": [
      "5/5 [==============================] - 0s 45ms/step - loss: 0.5086 - accuracy: 0.8538\n"
     ]
    },
    {
     "data": {
      "text/plain": [
       "[0.5085849761962891, 0.8538461327552795]"
      ]
     },
     "execution_count": 15,
     "metadata": {},
     "output_type": "execute_result"
    }
   ],
   "source": [
    "best_model.evaluate(dataset_test)"
   ]
  },
  {
   "cell_type": "code",
   "execution_count": 16,
   "id": "ea91e124",
   "metadata": {},
   "outputs": [
    {
     "data": {
      "image/png": "[encoded data removed]",
      "text/plain": [
       "<Figure size 800x400 with 2 Axes>"
      ]
     },
     "metadata": {},
     "output_type": "display_data"
    }
   ],
   "source": [
    "loss = history.history[\"loss\"]\n",
    "val_loss = history.history[\"val_loss\"]\n",
    "accuracy = history.history[\"accuracy\"]\n",
    "val_accuracy = history.history[\"val_accuracy\"]\n",
    "\n",
    "plt.figure(figsize=(8, 4))\n",
    "plt.subplot(1, 2, 1)\n",
    "plt.grid()\n",
    "plt.plot(loss)\n",
    "plt.plot(val_loss)\n",
    "plt.title(\"Loss\")\n",
    "plt.legend([\"Training loss\", \"Validation loss\"])\n",
    "\n",
    "plt.subplot(1, 2, 2)\n",
    "plt.grid()\n",
    "plt.plot(accuracy)\n",
    "plt.plot(val_accuracy)\n",
    "plt.title(\"Accuracy\")\n",
    "plt.legend([\"Training accuracy\", \"Validation accuracy\"])\n",
    "plt.savefig(\"lossaccuracy.png\")"
   ]
  },
  {
   "cell_type": "code",
   "execution_count": null,
   "id": "a23e64bd",
   "metadata": {},
   "outputs": [],
   "source": []
  }
 ],
 "metadata": {
  "kernelspec": {
   "display_name": "tf-gpu-2",
   "language": "python",
   "name": "python3"
  },
  "language_info": {
   "codemirror_mode": {
    "name": "ipython",
    "version": 3
   },
   "file_extension": ".py",
   "mimetype": "text/x-python",
   "name": "python",
   "nbconvert_exporter": "python",
   "pygments_lexer": "ipython3",
   "version": "3.9.21"
  }
 },
 "nbformat": 4,
 "nbformat_minor": 5
}
